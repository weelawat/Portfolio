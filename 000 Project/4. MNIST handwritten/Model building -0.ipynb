{
 "cells": [
  {
   "cell_type": "markdown",
   "metadata": {},
   "source": [
    "## Import library & Load data"
   ]
  },
  {
   "cell_type": "code",
   "execution_count": 1,
   "metadata": {
    "scrolled": true
   },
   "outputs": [],
   "source": [
    "import numpy as np\n",
    "import pandas as pd\n",
    "import matplotlib.pyplot as plt\n",
    "import tensorflow as tf\n",
    "from tensorflow.keras.datasets import mnist"
   ]
  },
  {
   "cell_type": "code",
   "execution_count": 2,
   "metadata": {},
   "outputs": [],
   "source": [
    "(x_train, y_train), (x_test, y_test) = mnist.load_data()"
   ]
  },
  {
   "cell_type": "code",
   "execution_count": 3,
   "metadata": {},
   "outputs": [
    {
     "name": "stdout",
     "output_type": "stream",
     "text": [
      "(60000, 28, 28) (60000,)\n",
      "(10000, 28, 28) (10000,)\n"
     ]
    }
   ],
   "source": [
    "print(x_train.shape, y_train.shape)\n",
    "print(x_test.shape, y_test.shape)"
   ]
  },
  {
   "cell_type": "markdown",
   "metadata": {},
   "source": [
    "## EDA"
   ]
  },
  {
   "cell_type": "code",
   "execution_count": 4,
   "metadata": {},
   "outputs": [
    {
     "data": {
      "text/plain": [
       "array([[  0,   0,   0,   0,   0,   0,   0,   0,   0,   0,   0,   0,   0,\n",
       "          0,   0,   0,   0,   0,   0,   0,   0,   0,   0,   0,   0,   0,\n",
       "          0,   0],\n",
       "       [  0,   0,   0,   0,   0,   0,   0,   0,   0,   0,   0,   0,   0,\n",
       "          0,   0,   0,   0,   0,   0,   0,   0,   0,   0,   0,   0,   0,\n",
       "          0,   0],\n",
       "       [  0,   0,   0,   0,   0,   0,   0,   0,   0,   0,   0,   0,   0,\n",
       "          0,   0,   0,   0,   0,   0,   0,   0,   0,   0,   0,   0,   0,\n",
       "          0,   0],\n",
       "       [  0,   0,   0,   0,   0,   0,   0,   0,   0,   0,   0,   0,   0,\n",
       "          0,   0,   0,   0,   0,   0,   0,   0,   0,   0,   0,   0,   0,\n",
       "          0,   0],\n",
       "       [  0,   0,   0,   0,   0,   0,   0,   0,   0,   0,   0,   0,   0,\n",
       "          0,   0,   0,   0,   0,   0,   0,   0,   0,   0,   0,   0,   0,\n",
       "          0,   0],\n",
       "       [  0,   0,   0,   0,   0,   0,   0,   0,   0,   0,   0,   0,   3,\n",
       "         18,  18,  18, 126, 136, 175,  26, 166, 255, 247, 127,   0,   0,\n",
       "          0,   0],\n",
       "       [  0,   0,   0,   0,   0,   0,   0,   0,  30,  36,  94, 154, 170,\n",
       "        253, 253, 253, 253, 253, 225, 172, 253, 242, 195,  64,   0,   0,\n",
       "          0,   0],\n",
       "       [  0,   0,   0,   0,   0,   0,   0,  49, 238, 253, 253, 253, 253,\n",
       "        253, 253, 253, 253, 251,  93,  82,  82,  56,  39,   0,   0,   0,\n",
       "          0,   0],\n",
       "       [  0,   0,   0,   0,   0,   0,   0,  18, 219, 253, 253, 253, 253,\n",
       "        253, 198, 182, 247, 241,   0,   0,   0,   0,   0,   0,   0,   0,\n",
       "          0,   0],\n",
       "       [  0,   0,   0,   0,   0,   0,   0,   0,  80, 156, 107, 253, 253,\n",
       "        205,  11,   0,  43, 154,   0,   0,   0,   0,   0,   0,   0,   0,\n",
       "          0,   0],\n",
       "       [  0,   0,   0,   0,   0,   0,   0,   0,   0,  14,   1, 154, 253,\n",
       "         90,   0,   0,   0,   0,   0,   0,   0,   0,   0,   0,   0,   0,\n",
       "          0,   0],\n",
       "       [  0,   0,   0,   0,   0,   0,   0,   0,   0,   0,   0, 139, 253,\n",
       "        190,   2,   0,   0,   0,   0,   0,   0,   0,   0,   0,   0,   0,\n",
       "          0,   0],\n",
       "       [  0,   0,   0,   0,   0,   0,   0,   0,   0,   0,   0,  11, 190,\n",
       "        253,  70,   0,   0,   0,   0,   0,   0,   0,   0,   0,   0,   0,\n",
       "          0,   0],\n",
       "       [  0,   0,   0,   0,   0,   0,   0,   0,   0,   0,   0,   0,  35,\n",
       "        241, 225, 160, 108,   1,   0,   0,   0,   0,   0,   0,   0,   0,\n",
       "          0,   0],\n",
       "       [  0,   0,   0,   0,   0,   0,   0,   0,   0,   0,   0,   0,   0,\n",
       "         81, 240, 253, 253, 119,  25,   0,   0,   0,   0,   0,   0,   0,\n",
       "          0,   0],\n",
       "       [  0,   0,   0,   0,   0,   0,   0,   0,   0,   0,   0,   0,   0,\n",
       "          0,  45, 186, 253, 253, 150,  27,   0,   0,   0,   0,   0,   0,\n",
       "          0,   0],\n",
       "       [  0,   0,   0,   0,   0,   0,   0,   0,   0,   0,   0,   0,   0,\n",
       "          0,   0,  16,  93, 252, 253, 187,   0,   0,   0,   0,   0,   0,\n",
       "          0,   0],\n",
       "       [  0,   0,   0,   0,   0,   0,   0,   0,   0,   0,   0,   0,   0,\n",
       "          0,   0,   0,   0, 249, 253, 249,  64,   0,   0,   0,   0,   0,\n",
       "          0,   0],\n",
       "       [  0,   0,   0,   0,   0,   0,   0,   0,   0,   0,   0,   0,   0,\n",
       "          0,  46, 130, 183, 253, 253, 207,   2,   0,   0,   0,   0,   0,\n",
       "          0,   0],\n",
       "       [  0,   0,   0,   0,   0,   0,   0,   0,   0,   0,   0,   0,  39,\n",
       "        148, 229, 253, 253, 253, 250, 182,   0,   0,   0,   0,   0,   0,\n",
       "          0,   0],\n",
       "       [  0,   0,   0,   0,   0,   0,   0,   0,   0,   0,  24, 114, 221,\n",
       "        253, 253, 253, 253, 201,  78,   0,   0,   0,   0,   0,   0,   0,\n",
       "          0,   0],\n",
       "       [  0,   0,   0,   0,   0,   0,   0,   0,  23,  66, 213, 253, 253,\n",
       "        253, 253, 198,  81,   2,   0,   0,   0,   0,   0,   0,   0,   0,\n",
       "          0,   0],\n",
       "       [  0,   0,   0,   0,   0,   0,  18, 171, 219, 253, 253, 253, 253,\n",
       "        195,  80,   9,   0,   0,   0,   0,   0,   0,   0,   0,   0,   0,\n",
       "          0,   0],\n",
       "       [  0,   0,   0,   0,  55, 172, 226, 253, 253, 253, 253, 244, 133,\n",
       "         11,   0,   0,   0,   0,   0,   0,   0,   0,   0,   0,   0,   0,\n",
       "          0,   0],\n",
       "       [  0,   0,   0,   0, 136, 253, 253, 253, 212, 135, 132,  16,   0,\n",
       "          0,   0,   0,   0,   0,   0,   0,   0,   0,   0,   0,   0,   0,\n",
       "          0,   0],\n",
       "       [  0,   0,   0,   0,   0,   0,   0,   0,   0,   0,   0,   0,   0,\n",
       "          0,   0,   0,   0,   0,   0,   0,   0,   0,   0,   0,   0,   0,\n",
       "          0,   0],\n",
       "       [  0,   0,   0,   0,   0,   0,   0,   0,   0,   0,   0,   0,   0,\n",
       "          0,   0,   0,   0,   0,   0,   0,   0,   0,   0,   0,   0,   0,\n",
       "          0,   0],\n",
       "       [  0,   0,   0,   0,   0,   0,   0,   0,   0,   0,   0,   0,   0,\n",
       "          0,   0,   0,   0,   0,   0,   0,   0,   0,   0,   0,   0,   0,\n",
       "          0,   0]], dtype=uint8)"
      ]
     },
     "execution_count": 4,
     "metadata": {},
     "output_type": "execute_result"
    }
   ],
   "source": [
    "x_train[0]"
   ]
  },
  {
   "cell_type": "code",
   "execution_count": 5,
   "metadata": {
    "scrolled": false
   },
   "outputs": [
    {
     "data": {
      "image/png": "[encoded data removed]",
      "text/plain": [
       "<Figure size 144x144 with 1 Axes>"
      ]
     },
     "metadata": {
      "needs_background": "light"
     },
     "output_type": "display_data"
    },
    {
     "data": {
      "image/png": "[encoded data removed]",
      "text/plain": [
       "<Figure size 144x144 with 1 Axes>"
      ]
     },
     "metadata": {
      "needs_background": "light"
     },
     "output_type": "display_data"
    },
    {
     "data": {
      "image/png": "[encoded data removed]",
      "text/plain": [
       "<Figure size 144x144 with 1 Axes>"
      ]
     },
     "metadata": {
      "needs_background": "light"
     },
     "output_type": "display_data"
    },
    {
     "data": {
      "image/png": "[encoded data removed]",
      "text/plain": [
       "<Figure size 144x144 with 1 Axes>"
      ]
     },
     "metadata": {
      "needs_background": "light"
     },
     "output_type": "display_data"
    },
    {
     "data": {
      "image/png": "[encoded data removed]",
      "text/plain": [
       "<Figure size 144x144 with 1 Axes>"
      ]
     },
     "metadata": {
      "needs_background": "light"
     },
     "output_type": "display_data"
    }
   ],
   "source": [
    "for i in range(0, 5):\n",
    "    plt.figure(figsize=(2, 2))\n",
    "    plt.imshow(x_train[i][:, :])\n",
    "    plt.title(f\"Label: {y_train[i]}\")\n",
    "    plt.show()"
   ]
  },
  {
   "cell_type": "markdown",
   "metadata": {},
   "source": [
    "## Prepare data"
   ]
  },
  {
   "cell_type": "code",
   "execution_count": 6,
   "metadata": {},
   "outputs": [
    {
     "name": "stdout",
     "output_type": "stream",
     "text": [
      "(60000, 28, 28, 1) (60000, 10)\n",
      "(10000, 28, 28, 1) (10000, 10)\n"
     ]
    }
   ],
   "source": [
    "x_train = x_train.reshape(x_train.shape[0], 28, 28, 1).astype(\"float32\")/255\n",
    "x_test = x_test.reshape(x_test.shape[0], 28, 28, 1).astype(\"float32\")/255\n",
    "\n",
    "y_train = tf.keras.utils.to_categorical(y_train, 10)\n",
    "y_test = tf.keras.utils.to_categorical(y_test, 10)\n",
    "\n",
    "print(x_train.shape, y_train.shape)\n",
    "print(x_test.shape, y_test.shape)\n"
   ]
  },
  {
   "cell_type": "markdown",
   "metadata": {},
   "source": [
    "## Train & Evaluate model"
   ]
  },
  {
   "cell_type": "code",
   "execution_count": 7,
   "metadata": {},
   "outputs": [
    {
     "name": "stdout",
     "output_type": "stream",
     "text": [
      "Metal device set to: Apple M1\n"
     ]
    },
    {
     "name": "stderr",
     "output_type": "stream",
     "text": [
      "2021-12-16 10:45:51.990671: I tensorflow/core/common_runtime/pluggable_device/pluggable_device_factory.cc:305] Could not identify NUMA node of platform GPU ID 0, defaulting to 0. Your kernel may not have been built with NUMA support.\n",
      "2021-12-16 10:45:51.991000: I tensorflow/core/common_runtime/pluggable_device/pluggable_device_factory.cc:271] Created TensorFlow device (/job:localhost/replica:0/task:0/device:GPU:0 with 0 MB memory) -> physical PluggableDevice (device: 0, name: METAL, pci bus id: <undefined>)\n"
     ]
    }
   ],
   "source": [
    "model = tf.keras.models.Sequential([\n",
    "    tf.keras.layers.Conv2D(32, (3, 3), activation = 'relu', padding = 'same', input_shape = (28, 28, 1)),\n",
    "    tf.keras.layers.Conv2D(32, (3, 3), activation = 'relu', padding = 'same'),\n",
    "    tf.keras.layers.BatchNormalization(),\n",
    "    tf.keras.layers.MaxPooling2D(2, 2),\n",
    "    tf.keras.layers.Dropout(0.2),\n",
    "    \n",
    "    tf.keras.layers.Conv2D(64, (3, 3), activation = 'relu', padding = 'same'),\n",
    "    tf.keras.layers.Conv2D(64, (3, 3), activation = 'relu', padding = 'same'),\n",
    "    tf.keras.layers.BatchNormalization(),\n",
    "    tf.keras.layers.MaxPooling2D(2, 2),\n",
    "    tf.keras.layers.Dropout(0.2),\n",
    "    \n",
    "    tf.keras.layers.Conv2D(128, (3, 3), activation = 'relu', padding = 'same'),\n",
    "    tf.keras.layers.Conv2D(128, (3, 3), activation = 'relu', padding = 'same'),\n",
    "    tf.keras.layers.BatchNormalization(),\n",
    "    tf.keras.layers.MaxPooling2D(2, 2),\n",
    "    tf.keras.layers.Dropout(0.2),\n",
    "    \n",
    "    tf.keras.layers.Flatten(),\n",
    "    \n",
    "    tf.keras.layers.Dense(512, activation = 'relu'),\n",
    "    tf.keras.layers.BatchNormalization(),\n",
    "    tf.keras.layers.Dropout(0.2),\n",
    "    \n",
    "    tf.keras.layers.Dense(256, activation = 'relu'),\n",
    "    tf.keras.layers.BatchNormalization(),\n",
    "    tf.keras.layers.Dropout(0.35),\n",
    "    \n",
    "    tf.keras.layers.Dense(10, activation = 'softmax')\n",
    "])"
   ]
  },
  {
   "cell_type": "code",
   "execution_count": 8,
   "metadata": {},
   "outputs": [
    {
     "name": "stdout",
     "output_type": "stream",
     "text": [
      "Model: \"sequential\"\n",
      "_________________________________________________________________\n",
      " Layer (type)                Output Shape              Param #   \n",
      "=================================================================\n",
      " conv2d (Conv2D)             (None, 28, 28, 32)        320       \n",
      "                                                                 \n",
      " conv2d_1 (Conv2D)           (None, 28, 28, 32)        9248      \n",
      "                                                                 \n",
      " batch_normalization (BatchN  (None, 28, 28, 32)       128       \n",
      " ormalization)                                                   \n",
      "                                                                 \n",
      " max_pooling2d (MaxPooling2D  (None, 14, 14, 32)       0         \n",
      " )                                                               \n",
      "                                                                 \n",
      " dropout (Dropout)           (None, 14, 14, 32)        0         \n",
      "                                                                 \n",
      " conv2d_2 (Conv2D)           (None, 14, 14, 64)        18496     \n",
      "                                                                 \n",
      " conv2d_3 (Conv2D)           (None, 14, 14, 64)        36928     \n",
      "                                                                 \n",
      " batch_normalization_1 (Batc  (None, 14, 14, 64)       256       \n",
      " hNormalization)                                                 \n",
      "                                                                 \n",
      " max_pooling2d_1 (MaxPooling  (None, 7, 7, 64)         0         \n",
      " 2D)                                                             \n",
      "                                                                 \n",
      " dropout_1 (Dropout)         (None, 7, 7, 64)          0         \n",
      "                                                                 \n",
      " conv2d_4 (Conv2D)           (None, 7, 7, 128)         73856     \n",
      "                                                                 \n",
      " conv2d_5 (Conv2D)           (None, 7, 7, 128)         147584    \n",
      "                                                                 \n",
      " batch_normalization_2 (Batc  (None, 7, 7, 128)        512       \n",
      " hNormalization)                                                 \n",
      "                                                                 \n",
      " max_pooling2d_2 (MaxPooling  (None, 3, 3, 128)        0         \n",
      " 2D)                                                             \n",
      "                                                                 \n",
      " dropout_2 (Dropout)         (None, 3, 3, 128)         0         \n",
      "                                                                 \n",
      " flatten (Flatten)           (None, 1152)              0         \n",
      "                                                                 \n",
      " dense (Dense)               (None, 512)               590336    \n",
      "                                                                 \n",
      " batch_normalization_3 (Batc  (None, 512)              2048      \n",
      " hNormalization)                                                 \n",
      "                                                                 \n",
      " dropout_3 (Dropout)         (None, 512)               0         \n",
      "                                                                 \n",
      " dense_1 (Dense)             (None, 256)               131328    \n",
      "                                                                 \n",
      " batch_normalization_4 (Batc  (None, 256)              1024      \n",
      " hNormalization)                                                 \n",
      "                                                                 \n",
      " dropout_4 (Dropout)         (None, 256)               0         \n",
      "                                                                 \n",
      " dense_2 (Dense)             (None, 10)                2570      \n",
      "                                                                 \n",
      "=================================================================\n",
      "Total params: 1,014,634\n",
      "Trainable params: 1,012,650\n",
      "Non-trainable params: 1,984\n",
      "_________________________________________________________________\n"
     ]
    }
   ],
   "source": [
    "model.summary()"
   ]
  },
  {
   "cell_type": "code",
   "execution_count": 9,
   "metadata": {},
   "outputs": [
    {
     "name": "stderr",
     "output_type": "stream",
     "text": [
      "/Users/wee/miniforge3/lib/python3.9/site-packages/keras/optimizer_v2/adam.py:105: UserWarning: The `lr` argument is deprecated, use `learning_rate` instead.\n",
      "  super(Adam, self).__init__(name, **kwargs)\n"
     ]
    }
   ],
   "source": [
    "from tensorflow.keras.optimizers import Adam\n",
    "\n",
    "model.compile(optimizer = Adam(lr = 1e-3),\n",
    "              loss = 'categorical_crossentropy',\n",
    "              metrics = ['accuracy'])"
   ]
  },
  {
   "cell_type": "code",
   "execution_count": 10,
   "metadata": {},
   "outputs": [],
   "source": [
    "from tensorflow.keras.preprocessing.image import ImageDataGenerator\n",
    "\n",
    "datagen = ImageDataGenerator(\n",
    "        rotation_range= 10,\n",
    "        zoom_range = 0.1,\n",
    "        width_shift_range = 0.1,\n",
    "        height_shift_range = 0.1\n",
    ")\n",
    "\n",
    "datagen.fit(x_train)"
   ]
  },
  {
   "cell_type": "code",
   "execution_count": 11,
   "metadata": {},
   "outputs": [],
   "source": [
    "train_generator = datagen.flow(x_train, y_train, batch_size = 64)\n",
    "\n",
    "validation_generator = datagen.flow(x_test, y_test, batch_size = 64)"
   ]
  },
  {
   "cell_type": "code",
   "execution_count": 12,
   "metadata": {},
   "outputs": [],
   "source": [
    "from tensorflow.keras.callbacks import ReduceLROnPlateau, ModelCheckpoint\n",
    "\n",
    "learning_rate_reduction = ReduceLROnPlateau(monitor = 'val_loss', patience = 3, verbose = 1, factor = 0.5, min_lr = 1e-6)\n",
    "\n",
    "model_checkpoint = ModelCheckpoint('./best_model.hdf5',monitor = 'val_loss', mode = \"min\", verbose = 1, save_best_model = True)"
   ]
  },
  {
   "cell_type": "code",
   "execution_count": 13,
   "metadata": {
    "scrolled": false
   },
   "outputs": [
    {
     "name": "stdout",
     "output_type": "stream",
     "text": [
      "Epoch 1/50\n"
     ]
    },
    {
     "name": "stderr",
     "output_type": "stream",
     "text": [
      "/var/folders/1p/r_fs_z1j6x9_vdytj4kfvcth0000gn/T/ipykernel_5268/815883134.py:1: UserWarning: `Model.fit_generator` is deprecated and will be removed in a future version. Please use `Model.fit`, which supports generators.\n",
      "  history = model.fit_generator(\n",
      "2021-12-16 10:45:52.747750: W tensorflow/core/platform/profile_utils/cpu_utils.cc:128] Failed to get CPU frequency: 0 Hz\n",
      "2021-12-16 10:45:53.096321: I tensorflow/core/grappler/optimizers/custom_graph_optimizer_registry.cc:112] Plugin optimizer for device_type GPU is enabled.\n"
     ]
    },
    {
     "name": "stdout",
     "output_type": "stream",
     "text": [
      "936/937 [============================>.] - ETA: 0s - loss: 0.2677 - accuracy: 0.9175"
     ]
    },
    {
     "name": "stderr",
     "output_type": "stream",
     "text": [
      "2021-12-16 10:46:21.838787: I tensorflow/core/grappler/optimizers/custom_graph_optimizer_registry.cc:112] Plugin optimizer for device_type GPU is enabled.\n"
     ]
    },
    {
     "name": "stdout",
     "output_type": "stream",
     "text": [
      "\n",
      "Epoch 00001: saving model to ./best_model.hdf5\n",
      "937/937 [==============================] - 31s 27ms/step - loss: 0.2675 - accuracy: 0.9176 - val_loss: 0.0671 - val_accuracy: 0.9783 - lr: 0.0010\n",
      "Epoch 2/50\n",
      "935/937 [============================>.] - ETA: 0s - loss: 0.0859 - accuracy: 0.9737\n",
      "Epoch 00002: saving model to ./best_model.hdf5\n",
      "937/937 [==============================] - 23s 24ms/step - loss: 0.0858 - accuracy: 0.9737 - val_loss: 0.0461 - val_accuracy: 0.9851 - lr: 0.0010\n",
      "Epoch 3/50\n",
      "935/937 [============================>.] - ETA: 0s - loss: 0.0656 - accuracy: 0.9802\n",
      "Epoch 00003: saving model to ./best_model.hdf5\n",
      "937/937 [==============================] - 23s 24ms/step - loss: 0.0657 - accuracy: 0.9801 - val_loss: 0.0372 - val_accuracy: 0.9880 - lr: 0.0010\n",
      "Epoch 4/50\n",
      "935/937 [============================>.] - ETA: 0s - loss: 0.0576 - accuracy: 0.9826\n",
      "Epoch 00004: saving model to ./best_model.hdf5\n",
      "937/937 [==============================] - 23s 25ms/step - loss: 0.0576 - accuracy: 0.9826 - val_loss: 0.0479 - val_accuracy: 0.9841 - lr: 0.0010\n",
      "Epoch 5/50\n",
      "935/937 [============================>.] - ETA: 0s - loss: 0.0544 - accuracy: 0.9831\n",
      "Epoch 00005: saving model to ./best_model.hdf5\n",
      "937/937 [==============================] - 23s 25ms/step - loss: 0.0544 - accuracy: 0.9831 - val_loss: 0.0389 - val_accuracy: 0.9873 - lr: 0.0010\n",
      "Epoch 6/50\n",
      "937/937 [==============================] - ETA: 0s - loss: 0.0495 - accuracy: 0.9855\n",
      "Epoch 00006: saving model to ./best_model.hdf5\n",
      "937/937 [==============================] - 23s 24ms/step - loss: 0.0495 - accuracy: 0.9855 - val_loss: 0.0227 - val_accuracy: 0.9928 - lr: 0.0010\n",
      "Epoch 7/50\n",
      "937/937 [==============================] - ETA: 0s - loss: 0.0444 - accuracy: 0.9862\n",
      "Epoch 00007: saving model to ./best_model.hdf5\n",
      "937/937 [==============================] - 23s 24ms/step - loss: 0.0444 - accuracy: 0.9862 - val_loss: 0.0331 - val_accuracy: 0.9891 - lr: 0.0010\n",
      "Epoch 8/50\n",
      "935/937 [============================>.] - ETA: 0s - loss: 0.0424 - accuracy: 0.9873\n",
      "Epoch 00008: saving model to ./best_model.hdf5\n",
      "937/937 [==============================] - 23s 24ms/step - loss: 0.0423 - accuracy: 0.9873 - val_loss: 0.0367 - val_accuracy: 0.9883 - lr: 0.0010\n",
      "Epoch 9/50\n",
      "937/937 [==============================] - ETA: 0s - loss: 0.0389 - accuracy: 0.9883\n",
      "Epoch 00009: ReduceLROnPlateau reducing learning rate to 0.0005000000237487257.\n",
      "\n",
      "Epoch 00009: saving model to ./best_model.hdf5\n",
      "937/937 [==============================] - 23s 24ms/step - loss: 0.0389 - accuracy: 0.9883 - val_loss: 0.0297 - val_accuracy: 0.9910 - lr: 0.0010\n",
      "Epoch 10/50\n",
      "937/937 [==============================] - ETA: 0s - loss: 0.0270 - accuracy: 0.9915\n",
      "Epoch 00010: saving model to ./best_model.hdf5\n",
      "937/937 [==============================] - 23s 24ms/step - loss: 0.0270 - accuracy: 0.9915 - val_loss: 0.0133 - val_accuracy: 0.9952 - lr: 5.0000e-04\n",
      "Epoch 11/50\n",
      "936/937 [============================>.] - ETA: 0s - loss: 0.0252 - accuracy: 0.9922\n",
      "Epoch 00011: saving model to ./best_model.hdf5\n",
      "937/937 [==============================] - 23s 24ms/step - loss: 0.0253 - accuracy: 0.9922 - val_loss: 0.0163 - val_accuracy: 0.9944 - lr: 5.0000e-04\n",
      "Epoch 12/50\n",
      "935/937 [============================>.] - ETA: 0s - loss: 0.0231 - accuracy: 0.9929\n",
      "Epoch 00012: saving model to ./best_model.hdf5\n",
      "937/937 [==============================] - 23s 24ms/step - loss: 0.0231 - accuracy: 0.9929 - val_loss: 0.0182 - val_accuracy: 0.9941 - lr: 5.0000e-04\n",
      "Epoch 13/50\n",
      "935/937 [============================>.] - ETA: 0s - loss: 0.0229 - accuracy: 0.9929\n",
      "Epoch 00013: ReduceLROnPlateau reducing learning rate to 0.0002500000118743628.\n",
      "\n",
      "Epoch 00013: saving model to ./best_model.hdf5\n",
      "937/937 [==============================] - 23s 24ms/step - loss: 0.0230 - accuracy: 0.9928 - val_loss: 0.0146 - val_accuracy: 0.9956 - lr: 5.0000e-04\n",
      "Epoch 14/50\n",
      "935/937 [============================>.] - ETA: 0s - loss: 0.0175 - accuracy: 0.9948\n",
      "Epoch 00014: saving model to ./best_model.hdf5\n",
      "937/937 [==============================] - 23s 24ms/step - loss: 0.0175 - accuracy: 0.9948 - val_loss: 0.0121 - val_accuracy: 0.9958 - lr: 2.5000e-04\n",
      "Epoch 15/50\n",
      "935/937 [============================>.] - ETA: 0s - loss: 0.0166 - accuracy: 0.9950\n",
      "Epoch 00015: saving model to ./best_model.hdf5\n",
      "937/937 [==============================] - 23s 24ms/step - loss: 0.0167 - accuracy: 0.9950 - val_loss: 0.0147 - val_accuracy: 0.9951 - lr: 2.5000e-04\n",
      "Epoch 16/50\n",
      "935/937 [============================>.] - ETA: 0s - loss: 0.0155 - accuracy: 0.9952\n",
      "Epoch 00016: saving model to ./best_model.hdf5\n",
      "937/937 [==============================] - 23s 24ms/step - loss: 0.0154 - accuracy: 0.9952 - val_loss: 0.0111 - val_accuracy: 0.9962 - lr: 2.5000e-04\n",
      "Epoch 17/50\n",
      "937/937 [==============================] - ETA: 0s - loss: 0.0163 - accuracy: 0.9951\n",
      "Epoch 00017: saving model to ./best_model.hdf5\n",
      "937/937 [==============================] - 23s 24ms/step - loss: 0.0163 - accuracy: 0.9951 - val_loss: 0.0129 - val_accuracy: 0.9960 - lr: 2.5000e-04\n",
      "Epoch 18/50\n",
      "936/937 [============================>.] - ETA: 0s - loss: 0.0151 - accuracy: 0.9954\n",
      "Epoch 00018: saving model to ./best_model.hdf5\n",
      "937/937 [==============================] - 23s 24ms/step - loss: 0.0151 - accuracy: 0.9954 - val_loss: 0.0108 - val_accuracy: 0.9964 - lr: 2.5000e-04\n",
      "Epoch 19/50\n",
      "935/937 [============================>.] - ETA: 0s - loss: 0.0147 - accuracy: 0.9952\n",
      "Epoch 00019: saving model to ./best_model.hdf5\n",
      "937/937 [==============================] - 23s 24ms/step - loss: 0.0147 - accuracy: 0.9951 - val_loss: 0.0124 - val_accuracy: 0.9960 - lr: 2.5000e-04\n",
      "Epoch 20/50\n",
      "936/937 [============================>.] - ETA: 0s - loss: 0.0133 - accuracy: 0.9957\n",
      "Epoch 00020: saving model to ./best_model.hdf5\n",
      "937/937 [==============================] - 23s 24ms/step - loss: 0.0133 - accuracy: 0.9957 - val_loss: 0.0119 - val_accuracy: 0.9957 - lr: 2.5000e-04\n",
      "Epoch 21/50\n",
      "937/937 [==============================] - ETA: 0s - loss: 0.0138 - accuracy: 0.9958\n",
      "Epoch 00021: ReduceLROnPlateau reducing learning rate to 0.0001250000059371814.\n",
      "\n",
      "Epoch 00021: saving model to ./best_model.hdf5\n",
      "937/937 [==============================] - 23s 24ms/step - loss: 0.0138 - accuracy: 0.9958 - val_loss: 0.0140 - val_accuracy: 0.9958 - lr: 2.5000e-04\n",
      "Epoch 22/50\n",
      "935/937 [============================>.] - ETA: 0s - loss: 0.0115 - accuracy: 0.9963\n",
      "Epoch 00022: saving model to ./best_model.hdf5\n",
      "937/937 [==============================] - 23s 24ms/step - loss: 0.0115 - accuracy: 0.9963 - val_loss: 0.0096 - val_accuracy: 0.9970 - lr: 1.2500e-04\n",
      "Epoch 23/50\n",
      "937/937 [==============================] - ETA: 0s - loss: 0.0104 - accuracy: 0.9967\n",
      "Epoch 00023: saving model to ./best_model.hdf5\n",
      "937/937 [==============================] - 23s 24ms/step - loss: 0.0104 - accuracy: 0.9967 - val_loss: 0.0132 - val_accuracy: 0.9960 - lr: 1.2500e-04\n",
      "Epoch 24/50\n",
      "937/937 [==============================] - ETA: 0s - loss: 0.0108 - accuracy: 0.9966\n",
      "Epoch 00024: saving model to ./best_model.hdf5\n",
      "937/937 [==============================] - 23s 24ms/step - loss: 0.0108 - accuracy: 0.9966 - val_loss: 0.0119 - val_accuracy: 0.9964 - lr: 1.2500e-04\n",
      "Epoch 25/50\n",
      "935/937 [============================>.] - ETA: 0s - loss: 0.0103 - accuracy: 0.9967\n",
      "Epoch 00025: ReduceLROnPlateau reducing learning rate to 6.25000029685907e-05.\n",
      "\n",
      "Epoch 00025: saving model to ./best_model.hdf5\n",
      "937/937 [==============================] - 23s 24ms/step - loss: 0.0103 - accuracy: 0.9967 - val_loss: 0.0117 - val_accuracy: 0.9957 - lr: 1.2500e-04\n",
      "Epoch 26/50\n",
      "935/937 [============================>.] - ETA: 0s - loss: 0.0095 - accuracy: 0.9971\n",
      "Epoch 00026: saving model to ./best_model.hdf5\n",
      "937/937 [==============================] - 23s 24ms/step - loss: 0.0096 - accuracy: 0.9970 - val_loss: 0.0134 - val_accuracy: 0.9962 - lr: 6.2500e-05\n",
      "Epoch 27/50\n",
      "937/937 [==============================] - ETA: 0s - loss: 0.0093 - accuracy: 0.9972\n",
      "Epoch 00027: saving model to ./best_model.hdf5\n",
      "937/937 [==============================] - 23s 24ms/step - loss: 0.0093 - accuracy: 0.9972 - val_loss: 0.0106 - val_accuracy: 0.9967 - lr: 6.2500e-05\n",
      "Epoch 28/50\n"
     ]
    },
    {
     "name": "stdout",
     "output_type": "stream",
     "text": [
      "937/937 [==============================] - ETA: 0s - loss: 0.0090 - accuracy: 0.9971\n",
      "Epoch 00028: ReduceLROnPlateau reducing learning rate to 3.125000148429535e-05.\n",
      "\n",
      "Epoch 00028: saving model to ./best_model.hdf5\n",
      "937/937 [==============================] - 23s 24ms/step - loss: 0.0090 - accuracy: 0.9971 - val_loss: 0.0108 - val_accuracy: 0.9963 - lr: 6.2500e-05\n",
      "Epoch 29/50\n",
      "936/937 [============================>.] - ETA: 0s - loss: 0.0079 - accuracy: 0.9974\n",
      "Epoch 00029: saving model to ./best_model.hdf5\n",
      "937/937 [==============================] - 23s 24ms/step - loss: 0.0079 - accuracy: 0.9974 - val_loss: 0.0107 - val_accuracy: 0.9970 - lr: 3.1250e-05\n",
      "Epoch 30/50\n",
      "935/937 [============================>.] - ETA: 0s - loss: 0.0084 - accuracy: 0.9977\n",
      "Epoch 00030: saving model to ./best_model.hdf5\n",
      "937/937 [==============================] - 23s 24ms/step - loss: 0.0084 - accuracy: 0.9977 - val_loss: 0.0097 - val_accuracy: 0.9966 - lr: 3.1250e-05\n",
      "Epoch 31/50\n",
      "935/937 [============================>.] - ETA: 0s - loss: 0.0082 - accuracy: 0.9975\n",
      "Epoch 00031: ReduceLROnPlateau reducing learning rate to 1.5625000742147677e-05.\n",
      "\n",
      "Epoch 00031: saving model to ./best_model.hdf5\n",
      "937/937 [==============================] - 23s 24ms/step - loss: 0.0082 - accuracy: 0.9975 - val_loss: 0.0095 - val_accuracy: 0.9968 - lr: 3.1250e-05\n",
      "Epoch 32/50\n",
      "936/937 [============================>.] - ETA: 0s - loss: 0.0082 - accuracy: 0.9974\n",
      "Epoch 00032: saving model to ./best_model.hdf5\n",
      "937/937 [==============================] - 23s 24ms/step - loss: 0.0082 - accuracy: 0.9974 - val_loss: 0.0090 - val_accuracy: 0.9972 - lr: 1.5625e-05\n",
      "Epoch 33/50\n",
      "935/937 [============================>.] - ETA: 0s - loss: 0.0075 - accuracy: 0.9976\n",
      "Epoch 00033: saving model to ./best_model.hdf5\n",
      "937/937 [==============================] - 23s 24ms/step - loss: 0.0075 - accuracy: 0.9976 - val_loss: 0.0103 - val_accuracy: 0.9966 - lr: 1.5625e-05\n",
      "Epoch 34/50\n",
      "936/937 [============================>.] - ETA: 0s - loss: 0.0075 - accuracy: 0.9977\n",
      "Epoch 00034: saving model to ./best_model.hdf5\n",
      "937/937 [==============================] - 23s 24ms/step - loss: 0.0075 - accuracy: 0.9977 - val_loss: 0.0096 - val_accuracy: 0.9969 - lr: 1.5625e-05\n",
      "Epoch 35/50\n",
      "935/937 [============================>.] - ETA: 0s - loss: 0.0075 - accuracy: 0.9974\n",
      "Epoch 00035: ReduceLROnPlateau reducing learning rate to 7.812500371073838e-06.\n",
      "\n",
      "Epoch 00035: saving model to ./best_model.hdf5\n",
      "937/937 [==============================] - 23s 24ms/step - loss: 0.0075 - accuracy: 0.9974 - val_loss: 0.0108 - val_accuracy: 0.9966 - lr: 1.5625e-05\n",
      "Epoch 36/50\n",
      "935/937 [============================>.] - ETA: 0s - loss: 0.0072 - accuracy: 0.9976\n",
      "Epoch 00036: saving model to ./best_model.hdf5\n",
      "937/937 [==============================] - 23s 24ms/step - loss: 0.0072 - accuracy: 0.9976 - val_loss: 0.0098 - val_accuracy: 0.9969 - lr: 7.8125e-06\n",
      "Epoch 37/50\n",
      "935/937 [============================>.] - ETA: 0s - loss: 0.0067 - accuracy: 0.9980\n",
      "Epoch 00037: saving model to ./best_model.hdf5\n",
      "937/937 [==============================] - 23s 24ms/step - loss: 0.0067 - accuracy: 0.9980 - val_loss: 0.0099 - val_accuracy: 0.9964 - lr: 7.8125e-06\n",
      "Epoch 38/50\n",
      "937/937 [==============================] - ETA: 0s - loss: 0.0073 - accuracy: 0.9976\n",
      "Epoch 00038: ReduceLROnPlateau reducing learning rate to 3.906250185536919e-06.\n",
      "\n",
      "Epoch 00038: saving model to ./best_model.hdf5\n",
      "937/937 [==============================] - 23s 24ms/step - loss: 0.0073 - accuracy: 0.9976 - val_loss: 0.0091 - val_accuracy: 0.9967 - lr: 7.8125e-06\n",
      "Epoch 39/50\n",
      "935/937 [============================>.] - ETA: 0s - loss: 0.0077 - accuracy: 0.9974\n",
      "Epoch 00039: saving model to ./best_model.hdf5\n",
      "937/937 [==============================] - 23s 24ms/step - loss: 0.0076 - accuracy: 0.9974 - val_loss: 0.0113 - val_accuracy: 0.9965 - lr: 3.9063e-06\n",
      "Epoch 40/50\n",
      "935/937 [============================>.] - ETA: 0s - loss: 0.0066 - accuracy: 0.9980\n",
      "Epoch 00040: saving model to ./best_model.hdf5\n",
      "937/937 [==============================] - 23s 24ms/step - loss: 0.0066 - accuracy: 0.9980 - val_loss: 0.0102 - val_accuracy: 0.9966 - lr: 3.9063e-06\n",
      "Epoch 41/50\n",
      "936/937 [============================>.] - ETA: 0s - loss: 0.0066 - accuracy: 0.9980\n",
      "Epoch 00041: ReduceLROnPlateau reducing learning rate to 1.9531250927684596e-06.\n",
      "\n",
      "Epoch 00041: saving model to ./best_model.hdf5\n",
      "937/937 [==============================] - 23s 24ms/step - loss: 0.0066 - accuracy: 0.9980 - val_loss: 0.0098 - val_accuracy: 0.9966 - lr: 3.9063e-06\n",
      "Epoch 42/50\n",
      "935/937 [============================>.] - ETA: 0s - loss: 0.0071 - accuracy: 0.9977\n",
      "Epoch 00042: saving model to ./best_model.hdf5\n",
      "937/937 [==============================] - 23s 24ms/step - loss: 0.0073 - accuracy: 0.9977 - val_loss: 0.0075 - val_accuracy: 0.9978 - lr: 1.9531e-06\n",
      "Epoch 43/50\n",
      "937/937 [==============================] - ETA: 0s - loss: 0.0068 - accuracy: 0.9979\n",
      "Epoch 00043: saving model to ./best_model.hdf5\n",
      "937/937 [==============================] - 23s 24ms/step - loss: 0.0068 - accuracy: 0.9979 - val_loss: 0.0082 - val_accuracy: 0.9969 - lr: 1.9531e-06\n",
      "Epoch 44/50\n",
      "935/937 [============================>.] - ETA: 0s - loss: 0.0073 - accuracy: 0.9977\n",
      "Epoch 00044: saving model to ./best_model.hdf5\n",
      "937/937 [==============================] - 23s 24ms/step - loss: 0.0072 - accuracy: 0.9977 - val_loss: 0.0102 - val_accuracy: 0.9969 - lr: 1.9531e-06\n",
      "Epoch 45/50\n",
      "935/937 [============================>.] - ETA: 0s - loss: 0.0074 - accuracy: 0.9977\n",
      "Epoch 00045: ReduceLROnPlateau reducing learning rate to 1e-06.\n",
      "\n",
      "Epoch 00045: saving model to ./best_model.hdf5\n",
      "937/937 [==============================] - 23s 24ms/step - loss: 0.0074 - accuracy: 0.9977 - val_loss: 0.0113 - val_accuracy: 0.9963 - lr: 1.9531e-06\n",
      "Epoch 46/50\n",
      "937/937 [==============================] - ETA: 0s - loss: 0.0074 - accuracy: 0.9976\n",
      "Epoch 00046: saving model to ./best_model.hdf5\n",
      "937/937 [==============================] - 23s 24ms/step - loss: 0.0074 - accuracy: 0.9976 - val_loss: 0.0096 - val_accuracy: 0.9968 - lr: 1.0000e-06\n",
      "Epoch 47/50\n",
      "937/937 [==============================] - ETA: 0s - loss: 0.0076 - accuracy: 0.9976\n",
      "Epoch 00047: saving model to ./best_model.hdf5\n",
      "937/937 [==============================] - 23s 25ms/step - loss: 0.0076 - accuracy: 0.9976 - val_loss: 0.0100 - val_accuracy: 0.9965 - lr: 1.0000e-06\n",
      "Epoch 48/50\n",
      "937/937 [==============================] - ETA: 0s - loss: 0.0073 - accuracy: 0.9977\n",
      "Epoch 00048: saving model to ./best_model.hdf5\n",
      "937/937 [==============================] - 23s 24ms/step - loss: 0.0073 - accuracy: 0.9977 - val_loss: 0.0090 - val_accuracy: 0.9968 - lr: 1.0000e-06\n",
      "Epoch 49/50\n",
      "937/937 [==============================] - ETA: 0s - loss: 0.0072 - accuracy: 0.9977\n",
      "Epoch 00049: saving model to ./best_model.hdf5\n",
      "937/937 [==============================] - 23s 24ms/step - loss: 0.0072 - accuracy: 0.9977 - val_loss: 0.0099 - val_accuracy: 0.9963 - lr: 1.0000e-06\n",
      "Epoch 50/50\n",
      "935/937 [============================>.] - ETA: 0s - loss: 0.0067 - accuracy: 0.9979\n",
      "Epoch 00050: saving model to ./best_model.hdf5\n",
      "937/937 [==============================] - 23s 24ms/step - loss: 0.0067 - accuracy: 0.9979 - val_loss: 0.0102 - val_accuracy: 0.9971 - lr: 1.0000e-06\n"
     ]
    }
   ],
   "source": [
    "history = model.fit_generator(\n",
    "    train_generator,\n",
    "    steps_per_epoch = x_train.shape[0] // 64,\n",
    "    epochs = 50,\n",
    "    validation_data = validation_generator,\n",
    "    validation_steps = x_test.shape[0] // 64,\n",
    "    callbacks = [learning_rate_reduction, model_checkpoint]\n",
    ")\n",
    "\n",
    "model.save(\"mnist.h5\")"
   ]
  },
  {
   "cell_type": "code",
   "execution_count": 14,
   "metadata": {},
   "outputs": [
    {
     "data": {
      "image/png": "[encoded data removed]",
      "text/plain": [
       "<Figure size 432x288 with 1 Axes>"
      ]
     },
     "metadata": {
      "needs_background": "light"
     },
     "output_type": "display_data"
    },
    {
     "data": {
      "image/png": "[encoded data removed]",
      "text/plain": [
       "<Figure size 432x288 with 1 Axes>"
      ]
     },
     "metadata": {
      "needs_background": "light"
     },
     "output_type": "display_data"
    }
   ],
   "source": [
    "accuracy = history.history['accuracy']\n",
    "val_accuracy = history.history['val_accuracy']\n",
    "loss = history.history['loss']\n",
    "val_loss = history.history['val_loss']\n",
    "\n",
    "epochs = len(accuracy)\n",
    "\n",
    "plt.plot(range(epochs), accuracy, 'b', label='Training accuracy')\n",
    "plt.plot(range(epochs), val_accuracy, 'r', label='Validation accuracy')\n",
    "plt.title('Training and validation accuracy')\n",
    "\n",
    "plt.figure()\n",
    "\n",
    "plt.plot(range(epochs), loss, 'b', label='Training Loss')\n",
    "plt.plot(range(epochs), val_loss, 'r', label='Training Loss')\n",
    "plt.title('Training and validation loss')\n",
    "\n",
    "plt.show()"
   ]
  }
 ],
 "metadata": {
  "kernelspec": {
   "display_name": "Python 3 (ipykernel)",
   "language": "python",
   "name": "python3"
  },
  "language_info": {
   "codemirror_mode": {
    "name": "ipython",
    "version": 3
   },
   "file_extension": ".py",
   "mimetype": "text/x-python",
   "name": "python",
   "nbconvert_exporter": "python",
   "pygments_lexer": "ipython3",
   "version": "3.9.7"
  }
 },
 "nbformat": 4,
 "nbformat_minor": 4
}
