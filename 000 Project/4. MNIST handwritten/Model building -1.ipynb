{
 "cells": [
  {
   "cell_type": "markdown",
   "metadata": {},
   "source": [
    "## Import library & Load data"
   ]
  },
  {
   "cell_type": "code",
   "execution_count": 7,
   "metadata": {},
   "outputs": [],
   "source": [
    "import numpy as np\n",
    "#import pandas as pd\n",
    "#import matplotlib.pyplot as plt\n",
    "import tensorflow as tf\n",
    "from tensorflow.keras.datasets import mnist"
   ]
  },
  {
   "cell_type": "code",
   "execution_count": 8,
   "metadata": {},
   "outputs": [],
   "source": [
    "(x_train, y_train), (x_test, y_test) = mnist.load_data()"
   ]
  },
  {
   "cell_type": "code",
   "execution_count": 9,
   "metadata": {},
   "outputs": [
    {
     "name": "stdout",
     "output_type": "stream",
     "text": [
      "(60000, 28, 28) (60000,)\n",
      "(10000, 28, 28) (10000,)\n"
     ]
    }
   ],
   "source": [
    "print(x_train.shape, y_train.shape)\n",
    "print(x_test.shape, y_test.shape)"
   ]
  },
  {
   "cell_type": "markdown",
   "metadata": {},
   "source": [
    "## EDA"
   ]
  },
  {
   "cell_type": "code",
   "execution_count": 52,
   "metadata": {},
   "outputs": [
    {
     "data": {
      "text/plain": [
       "array([[  0,   0,   0,   0,   0,   0,   0,   0,   0,   0,   0,   0,   0,\n",
       "          0,   0,   0,   0,   0,   0,   0,   0,   0,   0,   0,   0,   0,\n",
       "          0,   0],\n",
       "       [  0,   0,   0,   0,   0,   0,   0,   0,   0,   0,   0,   0,   0,\n",
       "          0,   0,   0,   0,   0,   0,   0,   0,   0,   0,   0,   0,   0,\n",
       "          0,   0],\n",
       "       [  0,   0,   0,   0,   0,   0,   0,   0,   0,   0,   0,   0,   0,\n",
       "          0,   0,   0,   0,   0,   0,   0,   0,   0,   0,   0,   0,   0,\n",
       "          0,   0],\n",
       "       [  0,   0,   0,   0,   0,   0,   0,   0,   0,   0,   0,   0,   0,\n",
       "          0,   0,   0,   0,   0,   0,   0,   0,   0,   0,   0,   0,   0,\n",
       "          0,   0],\n",
       "       [  0,   0,   0,   0,   0,   0,   0,   0,   0,   0,   0,   0,   0,\n",
       "          0,   0,   0,   0,   0,   0,   0,   0,   0,   0,   0,   0,   0,\n",
       "          0,   0],\n",
       "       [  0,   0,   0,   0,   0,   0,   0,   0,   0,   0,   0,   0,   3,\n",
       "         18,  18,  18, 126, 136, 175,  26, 166, 255, 247, 127,   0,   0,\n",
       "          0,   0],\n",
       "       [  0,   0,   0,   0,   0,   0,   0,   0,  30,  36,  94, 154, 170,\n",
       "        253, 253, 253, 253, 253, 225, 172, 253, 242, 195,  64,   0,   0,\n",
       "          0,   0],\n",
       "       [  0,   0,   0,   0,   0,   0,   0,  49, 238, 253, 253, 253, 253,\n",
       "        253, 253, 253, 253, 251,  93,  82,  82,  56,  39,   0,   0,   0,\n",
       "          0,   0],\n",
       "       [  0,   0,   0,   0,   0,   0,   0,  18, 219, 253, 253, 253, 253,\n",
       "        253, 198, 182, 247, 241,   0,   0,   0,   0,   0,   0,   0,   0,\n",
       "          0,   0],\n",
       "       [  0,   0,   0,   0,   0,   0,   0,   0,  80, 156, 107, 253, 253,\n",
       "        205,  11,   0,  43, 154,   0,   0,   0,   0,   0,   0,   0,   0,\n",
       "          0,   0],\n",
       "       [  0,   0,   0,   0,   0,   0,   0,   0,   0,  14,   1, 154, 253,\n",
       "         90,   0,   0,   0,   0,   0,   0,   0,   0,   0,   0,   0,   0,\n",
       "          0,   0],\n",
       "       [  0,   0,   0,   0,   0,   0,   0,   0,   0,   0,   0, 139, 253,\n",
       "        190,   2,   0,   0,   0,   0,   0,   0,   0,   0,   0,   0,   0,\n",
       "          0,   0],\n",
       "       [  0,   0,   0,   0,   0,   0,   0,   0,   0,   0,   0,  11, 190,\n",
       "        253,  70,   0,   0,   0,   0,   0,   0,   0,   0,   0,   0,   0,\n",
       "          0,   0],\n",
       "       [  0,   0,   0,   0,   0,   0,   0,   0,   0,   0,   0,   0,  35,\n",
       "        241, 225, 160, 108,   1,   0,   0,   0,   0,   0,   0,   0,   0,\n",
       "          0,   0],\n",
       "       [  0,   0,   0,   0,   0,   0,   0,   0,   0,   0,   0,   0,   0,\n",
       "         81, 240, 253, 253, 119,  25,   0,   0,   0,   0,   0,   0,   0,\n",
       "          0,   0],\n",
       "       [  0,   0,   0,   0,   0,   0,   0,   0,   0,   0,   0,   0,   0,\n",
       "          0,  45, 186, 253, 253, 150,  27,   0,   0,   0,   0,   0,   0,\n",
       "          0,   0],\n",
       "       [  0,   0,   0,   0,   0,   0,   0,   0,   0,   0,   0,   0,   0,\n",
       "          0,   0,  16,  93, 252, 253, 187,   0,   0,   0,   0,   0,   0,\n",
       "          0,   0],\n",
       "       [  0,   0,   0,   0,   0,   0,   0,   0,   0,   0,   0,   0,   0,\n",
       "          0,   0,   0,   0, 249, 253, 249,  64,   0,   0,   0,   0,   0,\n",
       "          0,   0],\n",
       "       [  0,   0,   0,   0,   0,   0,   0,   0,   0,   0,   0,   0,   0,\n",
       "          0,  46, 130, 183, 253, 253, 207,   2,   0,   0,   0,   0,   0,\n",
       "          0,   0],\n",
       "       [  0,   0,   0,   0,   0,   0,   0,   0,   0,   0,   0,   0,  39,\n",
       "        148, 229, 253, 253, 253, 250, 182,   0,   0,   0,   0,   0,   0,\n",
       "          0,   0],\n",
       "       [  0,   0,   0,   0,   0,   0,   0,   0,   0,   0,  24, 114, 221,\n",
       "        253, 253, 253, 253, 201,  78,   0,   0,   0,   0,   0,   0,   0,\n",
       "          0,   0],\n",
       "       [  0,   0,   0,   0,   0,   0,   0,   0,  23,  66, 213, 253, 253,\n",
       "        253, 253, 198,  81,   2,   0,   0,   0,   0,   0,   0,   0,   0,\n",
       "          0,   0],\n",
       "       [  0,   0,   0,   0,   0,   0,  18, 171, 219, 253, 253, 253, 253,\n",
       "        195,  80,   9,   0,   0,   0,   0,   0,   0,   0,   0,   0,   0,\n",
       "          0,   0],\n",
       "       [  0,   0,   0,   0,  55, 172, 226, 253, 253, 253, 253, 244, 133,\n",
       "         11,   0,   0,   0,   0,   0,   0,   0,   0,   0,   0,   0,   0,\n",
       "          0,   0],\n",
       "       [  0,   0,   0,   0, 136, 253, 253, 253, 212, 135, 132,  16,   0,\n",
       "          0,   0,   0,   0,   0,   0,   0,   0,   0,   0,   0,   0,   0,\n",
       "          0,   0],\n",
       "       [  0,   0,   0,   0,   0,   0,   0,   0,   0,   0,   0,   0,   0,\n",
       "          0,   0,   0,   0,   0,   0,   0,   0,   0,   0,   0,   0,   0,\n",
       "          0,   0],\n",
       "       [  0,   0,   0,   0,   0,   0,   0,   0,   0,   0,   0,   0,   0,\n",
       "          0,   0,   0,   0,   0,   0,   0,   0,   0,   0,   0,   0,   0,\n",
       "          0,   0],\n",
       "       [  0,   0,   0,   0,   0,   0,   0,   0,   0,   0,   0,   0,   0,\n",
       "          0,   0,   0,   0,   0,   0,   0,   0,   0,   0,   0,   0,   0,\n",
       "          0,   0]], dtype=uint8)"
      ]
     },
     "execution_count": 52,
     "metadata": {},
     "output_type": "execute_result"
    }
   ],
   "source": [
    "x_train[0]"
   ]
  },
  {
   "cell_type": "code",
   "execution_count": 53,
   "metadata": {
    "scrolled": false
   },
   "outputs": [
    {
     "data": {
      "image/png": "[encoded data removed]",
      "text/plain": [
       "<Figure size 144x144 with 1 Axes>"
      ]
     },
     "metadata": {
      "needs_background": "light"
     },
     "output_type": "display_data"
    },
    {
     "data": {
      "image/png": "[encoded data removed]",
      "text/plain": [
       "<Figure size 144x144 with 1 Axes>"
      ]
     },
     "metadata": {
      "needs_background": "light"
     },
     "output_type": "display_data"
    },
    {
     "data": {
      "image/png": "[encoded data removed]",
      "text/plain": [
       "<Figure size 144x144 with 1 Axes>"
      ]
     },
     "metadata": {
      "needs_background": "light"
     },
     "output_type": "display_data"
    },
    {
     "data": {
      "image/png": "[encoded data removed]",
      "text/plain": [
       "<Figure size 144x144 with 1 Axes>"
      ]
     },
     "metadata": {
      "needs_background": "light"
     },
     "output_type": "display_data"
    },
    {
     "data": {
      "image/png": "[encoded data removed]",
      "text/plain": [
       "<Figure size 144x144 with 1 Axes>"
      ]
     },
     "metadata": {
      "needs_background": "light"
     },
     "output_type": "display_data"
    }
   ],
   "source": [
    "for i in range(0, 5):\n",
    "    plt.figure(figsize=(2, 2))\n",
    "    plt.imshow(x_train[i][:, :])\n",
    "    plt.title(f\"Label: {y_train[i]}\")\n",
    "    plt.show()"
   ]
  },
  {
   "cell_type": "markdown",
   "metadata": {},
   "source": [
    "## Prepare data"
   ]
  },
  {
   "cell_type": "code",
   "execution_count": 10,
   "metadata": {},
   "outputs": [
    {
     "name": "stdout",
     "output_type": "stream",
     "text": [
      "(60000, 28, 28, 1) (60000, 10)\n",
      "(10000, 28, 28, 1) (10000, 10)\n"
     ]
    }
   ],
   "source": [
    "x_train = x_train.reshape(x_train.shape[0], 28, 28, 1).astype(\"float32\")/255\n",
    "x_test = x_test.reshape(x_test.shape[0], 28, 28, 1).astype(\"float32\")/255\n",
    "\n",
    "y_train = tf.keras.utils.to_categorical(y_train, 10)\n",
    "y_test = tf.keras.utils.to_categorical(y_test, 10)\n",
    "\n",
    "print(x_train.shape, y_train.shape)\n",
    "print(x_test.shape, y_test.shape)\n"
   ]
  },
  {
   "cell_type": "markdown",
   "metadata": {},
   "source": [
    "## Train & Evaluate model"
   ]
  },
  {
   "cell_type": "code",
   "execution_count": 14,
   "metadata": {},
   "outputs": [],
   "source": [
    "from tensorflow.keras.models import Sequential\n",
    "from tensorflow.keras.layers import Dense, Dropout, Flatten, Conv2D, MaxPooling2D\n",
    "#from tensorflow.keras import backed as K\n",
    "\n",
    "batch_size = 128\n",
    "num_classes = 10\n",
    "epochs = 50\n",
    "input_shape = (28, 28, 1)\n",
    "\n",
    "model = Sequential()\n",
    "model.add(Conv2D(32, kernel_size=(3, 3), activation=\"relu\", input_shape=input_shape))\n",
    "model.add(Conv2D(64, (3, 3), activation=\"relu\"))\n",
    "model.add(MaxPooling2D(pool_size=(2, 2)))\n",
    "model.add(Dropout(0.25))\n",
    "model.add(Flatten())\n",
    "model.add(Dense(256, activation=\"relu\"))\n",
    "model.add(Dropout(0.5))\n",
    "model.add(Dense(num_classes, activation=\"softmax\"))\n",
    "\n",
    "model.compile(loss=tf.keras.losses.categorical_crossentropy, optimizer=tf.keras.optimizers.Adadelta(), metrics=[\"accuracy\"])"
   ]
  },
  {
   "cell_type": "code",
   "execution_count": 15,
   "metadata": {},
   "outputs": [
    {
     "name": "stdout",
     "output_type": "stream",
     "text": [
      "Epoch 1/50\n",
      "469/469 [==============================] - 18s 39ms/step - loss: 2.3052 - accuracy: 0.0951 - val_loss: 2.2881 - val_accuracy: 0.1642\n",
      "Epoch 2/50\n",
      "469/469 [==============================] - 18s 38ms/step - loss: 2.2863 - accuracy: 0.1415 - val_loss: 2.2673 - val_accuracy: 0.3047\n",
      "Epoch 3/50\n",
      "469/469 [==============================] - 18s 38ms/step - loss: 2.2670 - accuracy: 0.1942 - val_loss: 2.2443 - val_accuracy: 0.3968\n",
      "Epoch 4/50\n",
      "469/469 [==============================] - 18s 38ms/step - loss: 2.2465 - accuracy: 0.2470 - val_loss: 2.2177 - val_accuracy: 0.4658\n",
      "Epoch 5/50\n",
      "469/469 [==============================] - 18s 38ms/step - loss: 2.2206 - accuracy: 0.3023 - val_loss: 2.1857 - val_accuracy: 0.5259\n",
      "Epoch 6/50\n",
      "469/469 [==============================] - 18s 38ms/step - loss: 2.1898 - accuracy: 0.3500 - val_loss: 2.1464 - val_accuracy: 0.5709\n",
      "Epoch 7/50\n",
      "469/469 [==============================] - 18s 38ms/step - loss: 2.1523 - accuracy: 0.3927 - val_loss: 2.0969 - val_accuracy: 0.6019\n",
      "Epoch 8/50\n",
      "469/469 [==============================] - 18s 38ms/step - loss: 2.1063 - accuracy: 0.4312 - val_loss: 2.0345 - val_accuracy: 0.6333\n",
      "Epoch 9/50\n",
      "469/469 [==============================] - 18s 38ms/step - loss: 2.0454 - accuracy: 0.4717 - val_loss: 1.9554 - val_accuracy: 0.6658\n",
      "Epoch 10/50\n",
      "469/469 [==============================] - 18s 39ms/step - loss: 1.9717 - accuracy: 0.5056 - val_loss: 1.8556 - val_accuracy: 0.6929\n",
      "Epoch 11/50\n",
      "469/469 [==============================] - 18s 38ms/step - loss: 1.8783 - accuracy: 0.5378 - val_loss: 1.7325 - val_accuracy: 0.7189\n",
      "Epoch 12/50\n",
      "469/469 [==============================] - 18s 38ms/step - loss: 1.7645 - accuracy: 0.5640 - val_loss: 1.5864 - val_accuracy: 0.7428\n",
      "Epoch 13/50\n",
      "469/469 [==============================] - 18s 38ms/step - loss: 1.6344 - accuracy: 0.5926 - val_loss: 1.4235 - val_accuracy: 0.7623\n",
      "Epoch 14/50\n",
      "469/469 [==============================] - 18s 38ms/step - loss: 1.4963 - accuracy: 0.6118 - val_loss: 1.2561 - val_accuracy: 0.7793\n",
      "Epoch 15/50\n",
      "469/469 [==============================] - 18s 38ms/step - loss: 1.3594 - accuracy: 0.6288 - val_loss: 1.0981 - val_accuracy: 0.7963\n",
      "Epoch 16/50\n",
      "469/469 [==============================] - 18s 38ms/step - loss: 1.2464 - accuracy: 0.6422 - val_loss: 0.9606 - val_accuracy: 0.8075\n",
      "Epoch 17/50\n",
      "469/469 [==============================] - 18s 39ms/step - loss: 1.1477 - accuracy: 0.6551 - val_loss: 0.8463 - val_accuracy: 0.8183\n",
      "Epoch 18/50\n",
      "469/469 [==============================] - 18s 38ms/step - loss: 1.0659 - accuracy: 0.6652 - val_loss: 0.7545 - val_accuracy: 0.8271\n",
      "Epoch 19/50\n",
      "469/469 [==============================] - 18s 39ms/step - loss: 1.0108 - accuracy: 0.6727 - val_loss: 0.6817 - val_accuracy: 0.8344\n",
      "Epoch 20/50\n",
      "469/469 [==============================] - 18s 39ms/step - loss: 0.9666 - accuracy: 0.6802 - val_loss: 0.6245 - val_accuracy: 0.8398\n",
      "Epoch 21/50\n",
      "469/469 [==============================] - 18s 39ms/step - loss: 0.9311 - accuracy: 0.6913 - val_loss: 0.5787 - val_accuracy: 0.8464\n",
      "Epoch 22/50\n",
      "469/469 [==============================] - 18s 39ms/step - loss: 0.9096 - accuracy: 0.6963 - val_loss: 0.5419 - val_accuracy: 0.8527\n",
      "Epoch 23/50\n",
      "469/469 [==============================] - 18s 39ms/step - loss: 0.8925 - accuracy: 0.7040 - val_loss: 0.5126 - val_accuracy: 0.8566\n",
      "Epoch 24/50\n",
      "469/469 [==============================] - 19s 40ms/step - loss: 0.8886 - accuracy: 0.7068 - val_loss: 0.4895 - val_accuracy: 0.8610\n",
      "Epoch 25/50\n",
      "469/469 [==============================] - 18s 39ms/step - loss: 0.8696 - accuracy: 0.7147 - val_loss: 0.4681 - val_accuracy: 0.8657\n",
      "Epoch 26/50\n",
      "469/469 [==============================] - 18s 39ms/step - loss: 0.8687 - accuracy: 0.7182 - val_loss: 0.4527 - val_accuracy: 0.8672\n",
      "Epoch 27/50\n",
      "469/469 [==============================] - 18s 39ms/step - loss: 0.8547 - accuracy: 0.7247 - val_loss: 0.4393 - val_accuracy: 0.8715\n",
      "Epoch 28/50\n",
      "469/469 [==============================] - 18s 39ms/step - loss: 0.8625 - accuracy: 0.7265 - val_loss: 0.4282 - val_accuracy: 0.8729\n",
      "Epoch 29/50\n",
      "469/469 [==============================] - 18s 39ms/step - loss: 0.8586 - accuracy: 0.7289 - val_loss: 0.4194 - val_accuracy: 0.8747\n",
      "Epoch 30/50\n",
      "469/469 [==============================] - 18s 39ms/step - loss: 0.8603 - accuracy: 0.7341 - val_loss: 0.4127 - val_accuracy: 0.8766\n",
      "Epoch 31/50\n",
      "469/469 [==============================] - 18s 39ms/step - loss: 0.8513 - accuracy: 0.7390 - val_loss: 0.4054 - val_accuracy: 0.8791\n",
      "Epoch 32/50\n",
      "469/469 [==============================] - 18s 39ms/step - loss: 0.8739 - accuracy: 0.7397 - val_loss: 0.3996 - val_accuracy: 0.8811\n",
      "Epoch 33/50\n",
      "469/469 [==============================] - 18s 39ms/step - loss: 0.8717 - accuracy: 0.7415 - val_loss: 0.3958 - val_accuracy: 0.8820\n",
      "Epoch 34/50\n",
      "469/469 [==============================] - 18s 39ms/step - loss: 0.8867 - accuracy: 0.7419 - val_loss: 0.3927 - val_accuracy: 0.8843\n",
      "Epoch 35/50\n",
      "469/469 [==============================] - 18s 39ms/step - loss: 0.8766 - accuracy: 0.7485 - val_loss: 0.3895 - val_accuracy: 0.8862\n",
      "Epoch 36/50\n",
      "469/469 [==============================] - 18s 39ms/step - loss: 0.8899 - accuracy: 0.7490 - val_loss: 0.3883 - val_accuracy: 0.8863\n",
      "Epoch 37/50\n",
      "469/469 [==============================] - 18s 39ms/step - loss: 0.8897 - accuracy: 0.7551 - val_loss: 0.3857 - val_accuracy: 0.8884\n",
      "Epoch 38/50\n",
      "469/469 [==============================] - 18s 39ms/step - loss: 0.8932 - accuracy: 0.7513 - val_loss: 0.3855 - val_accuracy: 0.8892\n",
      "Epoch 39/50\n",
      "469/469 [==============================] - 18s 39ms/step - loss: 0.8823 - accuracy: 0.7618 - val_loss: 0.3851 - val_accuracy: 0.8899\n",
      "Epoch 40/50\n",
      "469/469 [==============================] - 18s 39ms/step - loss: 0.8976 - accuracy: 0.7603 - val_loss: 0.3847 - val_accuracy: 0.8915\n",
      "Epoch 41/50\n",
      "469/469 [==============================] - 18s 39ms/step - loss: 0.9128 - accuracy: 0.7580 - val_loss: 0.3852 - val_accuracy: 0.8920\n",
      "Epoch 42/50\n",
      "469/469 [==============================] - 18s 39ms/step - loss: 0.9174 - accuracy: 0.7616 - val_loss: 0.3868 - val_accuracy: 0.8938\n",
      "Epoch 43/50\n",
      "469/469 [==============================] - 18s 39ms/step - loss: 0.9292 - accuracy: 0.7630 - val_loss: 0.3886 - val_accuracy: 0.8938\n",
      "Epoch 44/50\n",
      "469/469 [==============================] - 18s 39ms/step - loss: 0.9236 - accuracy: 0.7664 - val_loss: 0.3897 - val_accuracy: 0.8947\n",
      "Epoch 45/50\n",
      "469/469 [==============================] - 18s 39ms/step - loss: 0.9511 - accuracy: 0.7633 - val_loss: 0.3902 - val_accuracy: 0.8961\n",
      "Epoch 46/50\n",
      "469/469 [==============================] - 18s 39ms/step - loss: 0.9532 - accuracy: 0.7670 - val_loss: 0.3914 - val_accuracy: 0.8966\n",
      "Epoch 47/50\n",
      "469/469 [==============================] - 18s 39ms/step - loss: 0.9683 - accuracy: 0.7692 - val_loss: 0.3930 - val_accuracy: 0.8982\n",
      "Epoch 48/50\n",
      "469/469 [==============================] - 18s 39ms/step - loss: 0.9521 - accuracy: 0.7737 - val_loss: 0.3957 - val_accuracy: 0.8989\n",
      "Epoch 49/50\n",
      "469/469 [==============================] - 18s 39ms/step - loss: 0.9883 - accuracy: 0.7710 - val_loss: 0.3981 - val_accuracy: 0.8992\n",
      "Epoch 50/50\n",
      "469/469 [==============================] - 18s 39ms/step - loss: 0.9991 - accuracy: 0.7702 - val_loss: 0.4009 - val_accuracy: 0.8995\n"
     ]
    }
   ],
   "source": [
    "hist = model.fit(x_train, y_train, batch_size=batch_size, epochs=epochs, verbose=1, validation_data=(x_test, y_test))\n",
    "\n",
    "model.save(\"mnist.h5\")"
   ]
  }
 ],
 "metadata": {
  "kernelspec": {
   "display_name": "Python 3",
   "language": "python",
   "name": "python3"
  },
  "language_info": {
   "codemirror_mode": {
    "name": "ipython",
    "version": 3
   },
   "file_extension": ".py",
   "mimetype": "text/x-python",
   "name": "python",
   "nbconvert_exporter": "python",
   "pygments_lexer": "ipython3",
   "version": "3.7.9"
  }
 },
 "nbformat": 4,
 "nbformat_minor": 4
}
