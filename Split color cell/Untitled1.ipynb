{
 "cells": [
  {
   "cell_type": "code",
   "execution_count": 20,
   "metadata": {},
   "outputs": [
    {
     "name": "stdout",
     "output_type": "stream",
     "text": [
      "Tol4-1 high.tiff\n",
      "65.41690352335496\n",
      "TolC251-1.tiff\n",
      "52.72097145896118\n"
     ]
    }
   ],
   "source": [
    "from PIL import Image\n",
    "from PIL import ImageFont\n",
    "from PIL import ImageDraw\n",
    "import cv2\n",
    "import numpy as np\n",
    "import glob\n",
    "\n",
    "#List tiff file\n",
    "patchfile = glob.glob(\"*.tiff\")\n",
    "\n",
    "for impatch in patchfile:\n",
    "\n",
    "    #Import image\n",
    "    im = Image.open(impatch)\n",
    "\n",
    "    #Set to array\n",
    "    imarray = np.array(im)\n",
    "\n",
    "    #Delete R B color\n",
    "    gimarray = imarray.copy()\n",
    "    gimarray[:, :, 0] = 0\n",
    "    gimarray[:, :, 2] = 0\n",
    "\n",
    "    #Fillter noise\n",
    "    gimarray[gimarray < 30] = 0\n",
    "\n",
    "    #Split G color array\n",
    "    gareaimarray = gimarray[:, :, 1]\n",
    "    cvgareaimarray = gareaimarray.copy() #Bufer for cv process\n",
    "\n",
    "    #Calculate intentsive of green area\n",
    "    gareaimarray = gareaimarray[gareaimarray > 0]\n",
    "    print(impatch)\n",
    "    print(gareaimarray.mean())\n",
    "\n",
    "    #combine 2 image\n",
    "    imarray = np.concatenate((imarray, np.full((1024, 2, 3), 255, dtype=\"uint8\"), gimarray), axis=1)\n",
    "    \n",
    "    #Find number of circle\n",
    "    circles = cv2.HoughCircles(cvgareaimarray,\n",
    "                           cv2.HOUGH_GRADIENT,\n",
    "                           minDist=35,\n",
    "                           dp=1,\n",
    "                           param1=150,\n",
    "                           param2=12,\n",
    "                           minRadius=12,\n",
    "                           maxRadius=30)\n",
    "\n",
    "    i = 0\n",
    "    for (x, y, r) in circles[0, :, :]:\n",
    "        i = i + 1\n",
    "        cv2.circle(imarray, (x, y), r, (0, 255, 0), 4)\n",
    "        cv2.putText(imarray,str(i), (x,y), cv2.FONT_HERSHEY_PLAIN, fontScale=1.2,\n",
    "                    color=(255, 255, 255), thickness=2)\n",
    "    \n",
    "    #Draw text in photo\n",
    "    Finalim = Image.fromarray(imarray)\n",
    "    draw = ImageDraw.Draw(Finalim)\n",
    "    font = ImageFont.truetype('Montserrat-Black.ttf', 20)\n",
    "    text = \"Mean avg. : \" + str(gareaimarray.mean()/3) + \"\\nTotal IntDen : \" + str(gareaimarray.sum()/3)\n",
    "    draw.text((1031, 5), text, (255,255,255), font=font)\n",
    "\n",
    "    #Save image\n",
    "    Finalim.save(\"Split\" + impatch[:-5] + \".jpg\")\n"
   ]
  },
  {
   "cell_type": "code",
   "execution_count": null,
   "metadata": {},
   "outputs": [],
   "source": []
  }
 ],
 "metadata": {
  "kernelspec": {
   "display_name": "Python 3",
   "language": "python",
   "name": "python3"
  },
  "language_info": {
   "codemirror_mode": {
    "name": "ipython",
    "version": 3
   },
   "file_extension": ".py",
   "mimetype": "text/x-python",
   "name": "python",
   "nbconvert_exporter": "python",
   "pygments_lexer": "ipython3",
   "version": "3.7.9"
  }
 },
 "nbformat": 4,
 "nbformat_minor": 4
}
