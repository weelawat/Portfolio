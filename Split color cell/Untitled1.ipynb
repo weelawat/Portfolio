{
 "cells": [
  {
   "cell_type": "code",
   "execution_count": 9,
   "metadata": {},
   "outputs": [
    {
     "name": "stdout",
     "output_type": "stream",
     "text": [
      "Tol4-1 high.tiff\n",
      "65.41690352335496\n",
      "TolC251-1.tiff\n",
      "52.72097145896118\n"
     ]
    }
   ],
   "source": [
    "from PIL import Image\n",
    "from PIL import ImageFont\n",
    "from PIL import ImageDraw\n",
    "import numpy as np\n",
    "import glob\n",
    "\n",
    "#List tiff file\n",
    "patchfile = glob.glob(\"*.tiff\")\n",
    "\n",
    "for impatch in patchfile:\n",
    "\n",
    "    #Import image\n",
    "    im = Image.open(impatch)\n",
    "\n",
    "    #Set to array\n",
    "    imarray = np.array(im)\n",
    "\n",
    "    #Delete R B color\n",
    "    gimarray = imarray.copy()\n",
    "    gimarray[:, :, 0] = 0\n",
    "    gimarray[:, :, 2] = 0\n",
    "\n",
    "    #Fillter noise\n",
    "    gimarray[gimarray < 30] = 0\n",
    "\n",
    "    #Split G color array\n",
    "    gareaimarray = gimarray[:, :, 1]\n",
    "\n",
    "    #Calculate intentsive of green area\n",
    "    gareaimarray = gareaimarray[gareaimarray > 0]\n",
    "    print(impatch)\n",
    "    print(gareaimarray.mean())\n",
    "\n",
    "    #combine 2 image\n",
    "    imarray = np.concatenate((imarray, np.full((1024, 2, 3), 255, dtype=\"uint8\"), gimarray), axis=1)\n",
    "    \n",
    "    #Draw text in photo\n",
    "    Finalim = Image.fromarray(imarray)\n",
    "    draw = ImageDraw.Draw(Finalim)\n",
    "    font = ImageFont.truetype('Montserrat-Black.ttf', 40)\n",
    "    draw.text((5, 5), str(gareaimarray.mean().round(2)), (255,255,255), font=font)\n",
    "\n",
    "    #Save image\n",
    "    Finalim.save(\"Split\" + impatch[:-5] + \".jpg\")\n"
   ]
  },
  {
   "cell_type": "code",
   "execution_count": null,
   "metadata": {},
   "outputs": [],
   "source": []
  }
 ],
 "metadata": {
  "kernelspec": {
   "display_name": "Python 3",
   "language": "python",
   "name": "python3"
  },
  "language_info": {
   "codemirror_mode": {
    "name": "ipython",
    "version": 3
   },
   "file_extension": ".py",
   "mimetype": "text/x-python",
   "name": "python",
   "nbconvert_exporter": "python",
   "pygments_lexer": "ipython3",
   "version": "3.7.9"
  }
 },
 "nbformat": 4,
 "nbformat_minor": 4
}
